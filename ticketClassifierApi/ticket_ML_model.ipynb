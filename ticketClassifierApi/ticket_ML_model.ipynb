{
 "cells": [
  {
   "cell_type": "code",
   "execution_count": 9,
   "metadata": {},
   "outputs": [
    {
     "name": "stdout",
     "output_type": "stream",
     "text": [
      "Model Accuracy: 0.9016666666666666\n"
     ]
    },
    {
     "name": "stderr",
     "output_type": "stream",
     "text": [
      "c:\\Users\\LENOVO\\anaconda3\\Lib\\site-packages\\sklearn\\preprocessing\\_encoders.py:972: FutureWarning: `sparse` was renamed to `sparse_output` in version 1.2 and will be removed in 1.4. `sparse_output` is ignored unless you leave `sparse` to its default value.\n",
      "  warnings.warn(\n"
     ]
    }
   ],
   "source": [
    "import pandas as pd\n",
    "from sklearn.model_selection import train_test_split\n",
    "from sklearn.ensemble import RandomForestClassifier\n",
    "from sklearn.metrics import accuracy_score\n",
    "import pickle\n",
    "from sklearn.preprocessing import OneHotEncoder\n",
    "from joblib import dump\n",
    "\n",
    "# Load your dataset (replace 'your_dataset.csv' with your actual dataset)\n",
    "data = pd.read_csv('./dataset/ticket_Dataset.csv')\n",
    "\n",
    "# Split the dataset into features and target\n",
    "X = data[['Priority', 'Type']]\n",
    "y = data['Agent']\n",
    "\n",
    "# One-hot encode categorical features\n",
    "encoder = OneHotEncoder(drop='first', sparse=False)\n",
    "X_encoded = encoder.fit_transform(X)\n",
    "\n",
    "# Split the data into training and testing sets\n",
    "X_train, X_test, y_train, y_test = train_test_split(X_encoded, y, test_size=0.2, random_state=42)\n",
    "\n",
    "# Create and train the machine learning model\n",
    "model = RandomForestClassifier()\n",
    "model.fit(X_train, y_train)\n",
    "\n",
    "# Save the trained model and the encoder using joblib\n",
    "dump(model, './saved_model/model.joblib')\n",
    "dump(encoder, './saved_model/encoder.joblib')\n",
    "\n",
    "# Evaluate the model\n",
    "y_pred = model.predict(X_test)\n",
    "accuracy = accuracy_score(y_test, y_pred)\n",
    "print(f'Model Accuracy: {accuracy}')\n"
   ]
  },
  {
   "cell_type": "code",
   "execution_count": 6,
   "metadata": {},
   "outputs": [
    {
     "name": "stdout",
     "output_type": "stream",
     "text": [
      "['Priority_low' 'Priority_medium' 'Type_network' 'Type_software']\n"
     ]
    }
   ],
   "source": [
    "encoded_columns = encoder.get_feature_names_out(['Priority', 'Type'])\n",
    "print(encoded_columns)"
   ]
  },
  {
   "cell_type": "code",
   "execution_count": 7,
   "metadata": {},
   "outputs": [
    {
     "name": "stdout",
     "output_type": "stream",
     "text": [
      "['Agent 3']\n"
     ]
    }
   ],
   "source": [
    "from flask import Flask, jsonify, request\n",
    "from joblib import load\n",
    "import pandas as pd\n",
    "\n",
    "model = load('model.joblib')\n",
    "encoder = load('encoder.joblib')\n",
    "\n",
    "# Read the input data\n",
    "input_data = pd.DataFrame([['low', 'network']], columns=['Priority', 'Type'])\n",
    "\n",
    "# One-hot encode the input data using the loaded encoder\n",
    "input_encoded = encoder.transform(input_data)\n",
    "\n",
    "# Make predictions using the loaded model\n",
    "predicted_agent = model.predict(input_encoded)\n",
    "print(predicted_agent)"
   ]
  }
 ],
 "metadata": {
  "kernelspec": {
   "display_name": "Python 3",
   "language": "python",
   "name": "python3"
  },
  "language_info": {
   "codemirror_mode": {
    "name": "ipython",
    "version": 3
   },
   "file_extension": ".py",
   "mimetype": "text/x-python",
   "name": "python",
   "nbconvert_exporter": "python",
   "pygments_lexer": "ipython3",
   "version": "3.11.4"
  }
 },
 "nbformat": 4,
 "nbformat_minor": 2
}
